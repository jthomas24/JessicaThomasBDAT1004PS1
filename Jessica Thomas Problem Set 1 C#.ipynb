{
 "cells": [
  {
   "cell_type": "markdown",
   "id": "244fc280",
   "metadata": {},
   "source": [
    "Problem Set 1\n",
    "\n",
    "Question 1\n",
    "5 --------------int \n",
    "5.0-------------float\n",
    "5 > 1-----------bool\n",
    "'5'-------------char\n",
    "5 * 2-----------int\n",
    "'5' * 2---------Error\n",
    "'5' + '2'-------string\n",
    "5 / 2------------double\n",
    "5 % 2------------double\n",
    "{5, 2, 1}--------array\n",
    "5 == 3-----------bool\n",
    "Pi (the number)--long"
   ]
  },
  {
   "cell_type": "code",
   "execution_count": 7,
   "id": "56e8d456",
   "metadata": {},
   "outputs": [
    {
     "name": "stdout",
     "output_type": "stream",
     "text": [
      "34\r\n"
     ]
    }
   ],
   "source": [
    "//Question 2a:\n",
    "\n",
    "String A = \"Supercalifragilisticexpialidocious\";\n",
    "\n",
    "Console.WriteLine(A.Length);"
   ]
  },
  {
   "cell_type": "code",
   "execution_count": 9,
   "id": "2ba8a4c4",
   "metadata": {},
   "outputs": [
    {
     "name": "stdout",
     "output_type": "stream",
     "text": [
      "True\r\n"
     ]
    }
   ],
   "source": [
    "//Question 2b:\n",
    "\n",
    "String A =  \"Supercalifragilisticexpialidocious\";\n",
    "String B = \"ice\";\n",
    "    \n",
    "    bool C = A.Contains(B);\n",
    "    Console.WriteLine(C);"
   ]
  },
  {
   "cell_type": "code",
   "execution_count": 118,
   "id": "7275d253",
   "metadata": {},
   "outputs": [
    {
     "name": "stdout",
     "output_type": "stream",
     "text": [
      "Supercalifragilisticexpialidociousis the longest word with 34 letters.\r\n"
     ]
    }
   ],
   "source": [
    "//Question 2c:\n",
    "\n",
    "String A =  \"Supercalifragilisticexpialidocious\";\n",
    "String B =  \"Honorificabilitudinitatibus\";\n",
    "String C =  \"Bababadalgharaghtakamminarronnkonn\";\n",
    "\n",
    "if (A.Length>B.Length)\n",
    "{\n",
    "    if (A.Length>C.Length)\n",
    "    { \n",
    "        Console.WriteLine(A+ \"is the longest word with \"+ A.Length+\" letters.\");\n",
    "    }\n",
    "    else\n",
    "    {\n",
    "        Console.WriteLine(C+ \"is the longest word with \"+  C.Length+\" letters.\");\n",
    "    }\n",
    "}\n",
    "else\n",
    "{\n",
    "    if (B.Length>C.Length)\n",
    "    {\n",
    "        Console.WriteLine(B+ \"is the longest word with \"+  B.Length+\" letters.\");\n",
    "    }\n",
    "    else\n",
    "    {\n",
    "        Console.WriteLine(C+  \"is the longest word with \"+ C.Length+\" letters.\");\n",
    "    }\n",
    "}\n",
    "\n",
    "\n"
   ]
  },
  {
   "cell_type": "code",
   "execution_count": 95,
   "id": "3e82c8f7",
   "metadata": {},
   "outputs": [
    {
     "name": "stdout",
     "output_type": "stream",
     "text": [
      "The first in the dictionary is: Bartok\n",
      "The last in the dictionary is: Buxtehude\n"
     ]
    }
   ],
   "source": [
    "//Question 2d:\n",
    "string[] names = {\"Berlioz\",\"Borodin\",\"Brian\",\"Bartok\",\"Bellini\",\"Buxtehude\",\"Bernstein\"};\n",
    "\n",
    "Array.Sort<string>(names);\n",
    "\n",
    "var first=names.First();\n",
    "var last = names.Last();\n",
    "\n",
    "Console.WriteLine(\"The first in the dictionary is: \"+ first);\n",
    "Console.WriteLine(\"The last in the dictionary is: \"+ last);\n"
   ]
  },
  {
   "cell_type": "code",
   "execution_count": 31,
   "id": "65bcc487",
   "metadata": {},
   "outputs": [
    {
     "name": "stdout",
     "output_type": "stream",
     "text": [
      "1.7320508075688772\r\n"
     ]
    }
   ],
   "source": [
    "//Question 3:\n",
    "\n",
    "\n",
    "int a = 2;\n",
    "int b = 2;\n",
    "int c = 2;\n",
    "\n",
    "int s = (a + b + c)/2;\n",
    "double triangleArea = Math.Sqrt((s*(s-a))*(s-b)*(s-c));\n",
    "Console.WriteLine (triangleArea);"
   ]
  },
  {
   "cell_type": "code",
   "execution_count": 73,
   "id": "cda01467",
   "metadata": {},
   "outputs": [
    {
     "name": "stdout",
     "output_type": "stream",
     "text": [
      "The Even Numbers are:\n",
      "42\n",
      "56\n",
      "32\n",
      "The Odd Numbers are:\n",
      "25\n",
      "47\n"
     ]
    }
   ],
   "source": [
    "//Question 4:\n",
    "\n",
    "List<int> elements = new List<int>(){25,47,42,56,32};\n",
    "List<int> odd = new List<int>();\n",
    "List<int> even = new List<int>();\n",
    "\n",
    "foreach (int elements in elements)\n",
    "{\n",
    "    if (elements % 2==0)\n",
    "    {\n",
    "        even.Add(elements);\n",
    "    }\n",
    "    else \n",
    "    {\n",
    "        odd.Add(elements);\n",
    "    }\n",
    "}\n",
    "\n",
    "Console.WriteLine(\"The Even Numbers are:\");\n",
    "foreach (var i in even)\n",
    "{\n",
    "    Console.WriteLine (i);\n",
    "}\n",
    "Console.WriteLine(\"The Odd Numbers are:\");\n",
    "foreach (var i in odd)\n",
    "{\n",
    "    Console.WriteLine (i);\n",
    "}\n"
   ]
  },
  {
   "cell_type": "code",
   "execution_count": 149,
   "id": "d323b4df",
   "metadata": {},
   "outputs": [
    {
     "name": "stdout",
     "output_type": "stream",
     "text": [
      "Inside(-1,-1,0,0,2,3)\n",
      "False\n"
     ]
    }
   ],
   "source": [
    "//Question 5:\n",
    "\n",
    "int PointX = -1;\n",
    "int PointY = -1;\n",
    "int LLX = 0;\n",
    "int LLY = 0;\n",
    "int URX = 2;\n",
    "int URY = 3;\n",
    "\n",
    "Console.WriteLine(\"Inside(\"+PointX+\",\"+PointY+\",\"+LLX+\",\"+LLY+\",\"+URX+\",\"+URY+\")\");\n",
    "if (PointX  > LLX &&  PointX < URX && PointY > LLY && PointY < URY)\n",
    "    Console.WriteLine(\"True\");\n",
    "else\n",
    "   Console.WriteLine(\"False\");\n",
    "\n"
   ]
  },
  {
   "cell_type": "code",
   "execution_count": 151,
   "id": "ebcd4a19",
   "metadata": {},
   "outputs": [
    {
     "name": "stdout",
     "output_type": "stream",
     "text": [
      "False\r\n"
     ]
    }
   ],
   "source": [
    "//Question 5b:\n",
    "\n",
    "double PointX = 1;\n",
    "double PointY = 1;\n",
    "double LLX1 = 0.3;\n",
    "double LLY1 = 0.5;\n",
    "double URX1 = 1.1;\n",
    "double URY1 = 0.7;\n",
    "double LLX2 = 0.5;\n",
    "double LLY2 = 0.2;\n",
    "double URX2 = 1.1;\n",
    "double URY2 = 2;\n",
    "\n",
    "if (PointX  > LLX1 &&  PointX  > LLX2 && PointX < URX1 && PointX < URX2 && PointY > LLY1 && PointY > LLY2 &&PointY < URY1 &&PointY < URY2)\n",
    "    Console.WriteLine(\"True\");\n",
    "else\n",
    "   Console.WriteLine(\"False\");\n"
   ]
  },
  {
   "cell_type": "code",
   "execution_count": null,
   "id": "c69bfb9a",
   "metadata": {},
   "outputs": [],
   "source": []
  }
 ],
 "metadata": {
  "kernelspec": {
   "display_name": ".NET (C#)",
   "language": "C#",
   "name": ".net-csharp"
  },
  "language_info": {
   "file_extension": ".cs",
   "mimetype": "text/x-csharp",
   "name": "C#",
   "pygments_lexer": "csharp",
   "version": "11.0"
  }
 },
 "nbformat": 4,
 "nbformat_minor": 5
}
