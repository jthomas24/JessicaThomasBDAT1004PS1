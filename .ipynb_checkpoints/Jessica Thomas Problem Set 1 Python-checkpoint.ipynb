{
 "cells": [
  {
   "cell_type": "code",
   "execution_count": 15,
   "id": "2ae8795e",
   "metadata": {},
   "outputs": [
    {
     "name": "stdout",
     "output_type": "stream",
     "text": [
      "Please enter your name: Enter\n",
      "enterway\n"
     ]
    }
   ],
   "source": [
    "#Question 6\n",
    "\n",
    "pig = input (\"Please enter your name: \")\n",
    "vowel = (\"a\",\"e\",\"i\",\"o\",\"u\")\n",
    "\n",
    "if pig[0].lower() in vowel:\n",
    "    print (pig.lower() + \"way\")\n",
    "else:\n",
    "    print (pig[1:]+pig[0]+\"ay\")"
   ]
  },
  {
   "cell_type": "code",
   "execution_count": 48,
   "id": "5582f821",
   "metadata": {},
   "outputs": [
    {
     "name": "stdout",
     "output_type": "stream",
     "text": [
      "There are  15 patients with blood type A\n",
      "There is  1 patient with blood type B\n",
      "There are  13 patients with blood type AB\n",
      "There are  15 patients with blood type O\n",
      "There are  0 patients with blood type OO\n"
     ]
    }
   ],
   "source": [
    "#Question 7\n",
    "\n",
    "name = open('bloodtype1.txt')\n",
    "temp = name.readline()\n",
    "bdlcount = temp.split()\n",
    "\n",
    "A = bdlcount.count(\"A\")\n",
    "B = bdlcount.count(\"B\")\n",
    "AB = bdlcount.count(\"AB\")\n",
    "O = bdlcount.count(\"O\")\n",
    "OO = bdlcount.count(\"OO\")\n",
    "\n",
    "print (\"There are \", A ,\"patients with blood type A\")\n",
    "print (\"There is \", B ,\"patient with blood type B\")    \n",
    "print (\"There are \", AB ,\"patients with blood type AB\")\n",
    "print (\"There are \", O ,\"patients with blood type O\")\n",
    "print (\"There are \", OO ,\"patients with blood type OO\")"
   ]
  },
  {
   "cell_type": "code",
   "execution_count": 117,
   "id": "1eab3eb8",
   "metadata": {},
   "outputs": [
    {
     "name": "stdout",
     "output_type": "stream",
     "text": [
      "Please enter the currency you are looking for: EUR\n",
      "Please enter the amount:100\n",
      "['EUR', '100']\n",
      "EUR\t1.2296544\tEuro\n",
      "\n",
      "122.96544\n"
     ]
    }
   ],
   "source": [
    "#Question 8\n",
    "\n",
    "name = open('currencies.txt')\n",
    "\n",
    "CUR = input (\"Please enter the currency you are looking for: \")\n",
    "Amount = input (\"Please enter the amount:\")\n",
    "\n",
    "curconv = []\n",
    "curconv.append(CUR)\n",
    "curconv.append(Amount)\n",
    "print (curconv)\n",
    "\n",
    "for each in name:\n",
    "    if each.find(CUR) != -1:\n",
    "            print (each)\n",
    "            x = each[4:13] \n",
    "            print (float(x)*float(Amount))\n",
    "       \n"
   ]
  },
  {
   "cell_type": "code",
   "execution_count": 7,
   "id": "434d1348",
   "metadata": {},
   "outputs": [],
   "source": [
    "#Question 9 \n",
    "\n",
    "# Trying to add incompatible variables, as in adding 6 + ‘a’\n",
    "        #Answer: Syntax Error - TypeError\n",
    "\n",
    "# Referring to the 12th item of a list that has only 10 items\n",
    "        #Answer: Syntax Error - Index Error\n",
    "\n",
    "# Using a value that is out of range for a function’s input, \n",
    "    #such as calling math.sqrt(-1.0)\n",
    "        #Answer: Syntax Error - ValueError\n",
    "\n",
    "# Using an undeclared variable, such as print(x)when x has not been defined\n",
    "        #Answer: Syntax Error - NameError\n",
    "\n",
    "# Trying to open a file that does not exist, such as mistyping the \n",
    "    #file name or looking in the wrong directory. \n",
    "        #Answer: Erroneous Error - FileNotFoundError"
   ]
  },
  {
   "cell_type": "code",
   "execution_count": 118,
   "id": "48512e8f",
   "metadata": {},
   "outputs": [
    {
     "name": "stdout",
     "output_type": "stream",
     "text": [
      "Please create a string: The quick red fox got bored and went home.\n",
      "a :  1\n",
      "b :  1\n",
      "c :  1\n",
      "d :  3\n",
      "e :  5\n",
      "f :  1\n",
      "g :  1\n",
      "h :  2\n",
      "i :  1\n",
      "j :  0\n",
      "k :  1\n",
      "l :  0\n",
      "m :  1\n",
      "n :  2\n",
      "o :  4\n",
      "p :  0\n",
      "q :  1\n",
      "r :  2\n",
      "s :  0\n",
      "t :  3\n",
      "u :  1\n",
      "v :  0\n",
      "w :  1\n",
      "x :  1\n",
      "y :  0\n",
      "z :  0\n"
     ]
    }
   ],
   "source": [
    "# Question 10 \n",
    "\n",
    "\n",
    "letters = \"abcdefghijklmnopqrstuvwxyz\"\n",
    "string = input(\"Please create a string: \")\n",
    "for i in letters:\n",
    "    frequencies = string.lower().count(i)\n",
    "    print (i,\": \",frequencies)"
   ]
  }
 ],
 "metadata": {
  "kernelspec": {
   "display_name": "Python 3 (ipykernel)",
   "language": "python",
   "name": "python3"
  },
  "language_info": {
   "codemirror_mode": {
    "name": "ipython",
    "version": 3
   },
   "file_extension": ".py",
   "mimetype": "text/x-python",
   "name": "python",
   "nbconvert_exporter": "python",
   "pygments_lexer": "ipython3",
   "version": "3.11.5"
  }
 },
 "nbformat": 4,
 "nbformat_minor": 5
}
