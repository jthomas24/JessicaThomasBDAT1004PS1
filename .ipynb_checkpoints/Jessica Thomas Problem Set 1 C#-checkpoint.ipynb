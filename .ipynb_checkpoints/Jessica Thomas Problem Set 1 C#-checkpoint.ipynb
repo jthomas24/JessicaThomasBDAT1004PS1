{
 "cells": [
  {
   "cell_type": "markdown",
   "id": "ba6a5995",
   "metadata": {},
   "source": [
    "Problem Set 1\n",
    "Question 1\n"
   ]
  },
  {
   "cell_type": "code",
   "execution_count": 7,
   "id": "35554938",
   "metadata": {},
   "outputs": [
    {
     "name": "stdout",
     "output_type": "stream",
     "text": [
      "34\r\n"
     ]
    }
   ],
   "source": [
    "//Question 2a:\n",
    "\n",
    "String A = \"Supercalifragilisticexpialidocious\";\n",
    "\n",
    "Console.WriteLine(A.Length);"
   ]
  },
  {
   "cell_type": "code",
   "execution_count": 9,
   "id": "a178e964",
   "metadata": {},
   "outputs": [
    {
     "name": "stdout",
     "output_type": "stream",
     "text": [
      "True\r\n"
     ]
    }
   ],
   "source": [
    "//Question 2b:\n",
    "\n",
    "String A =  \"Supercalifragilisticexpialidocious\";\n",
    "String B = \"ice\";\n",
    "    \n",
    "    bool C = A.Contains(B);\n",
    "    Console.WriteLine(C);"
   ]
  },
  {
   "cell_type": "code",
   "execution_count": null,
   "id": "0d71f0c2",
   "metadata": {},
   "outputs": [],
   "source": [
    "//Question 2c:\n"
   ]
  },
  {
   "cell_type": "code",
   "execution_count": null,
   "id": "7dd0e960",
   "metadata": {},
   "outputs": [],
   "source": [
    "//Question 2d:"
   ]
  },
  {
   "cell_type": "code",
   "execution_count": 31,
   "id": "19581cdf",
   "metadata": {},
   "outputs": [
    {
     "name": "stdout",
     "output_type": "stream",
     "text": [
      "1.7320508075688772\r\n"
     ]
    }
   ],
   "source": [
    "//Question 3:\n",
    "\n",
    "\n",
    "int a = 2;\n",
    "int b = 2;\n",
    "int c = 2;\n",
    "\n",
    "int s = (a + b + c)/2;\n",
    "double triangleArea = Math.Sqrt((s*(s-a))*(s-b)*(s-c));\n",
    "Console.WriteLine (triangleArea);"
   ]
  },
  {
   "cell_type": "code",
   "execution_count": null,
   "id": "69d9bfa1",
   "metadata": {},
   "outputs": [],
   "source": []
  }
 ],
 "metadata": {
  "kernelspec": {
   "display_name": ".NET (C#)",
   "language": "C#",
   "name": ".net-csharp"
  },
  "language_info": {
   "file_extension": ".cs",
   "mimetype": "text/x-csharp",
   "name": "C#",
   "pygments_lexer": "csharp",
   "version": "11.0"
  }
 },
 "nbformat": 4,
 "nbformat_minor": 5
}
